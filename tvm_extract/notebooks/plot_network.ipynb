{
 "cells": [
  {
   "cell_type": "code",
   "execution_count": 1,
   "id": "974c62c4",
   "metadata": {},
   "outputs": [],
   "source": [
    "import sys\n",
    "import os\n",
    "\n",
    "# Equivalent without using __file__, assuming you're in notebooks/\n",
    "project_root = os.path.abspath(\"..\")\n",
    "if project_root not in sys.path:\n",
    "    sys.path.insert(0, project_root)\n",
    "\n",
    "from AllocationFinder import AllocationFinder\n",
    "from MemBlock import MemBlock\n",
    "from models import get_relax_mnist"
   ]
  },
  {
   "cell_type": "code",
   "execution_count": 2,
   "id": "305d47d9",
   "metadata": {},
   "outputs": [],
   "source": [
    "import networkx as nx\n",
    "\n",
    "module = get_relax_mnist()\n",
    "alloc_finder = AllocationFinder(module)\n",
    "alloc_finder.walk()"
   ]
  },
  {
   "cell_type": "code",
   "execution_count": 3,
   "id": "d758931a",
   "metadata": {},
   "outputs": [
    {
     "data": {
      "text/plain": [
       "'pad_temp'"
      ]
     },
     "execution_count": 3,
     "metadata": {},
     "output_type": "execute_result"
    }
   ],
   "source": [
    "alloc_finder.memblocks[\"fused_conv2d_add_relu\"][0].name"
   ]
  },
  {
   "cell_type": "code",
   "execution_count": 4,
   "id": "7ed8bc97",
   "metadata": {},
   "outputs": [
    {
     "name": "stdout",
     "output_type": "stream",
     "text": [
      "func forward\n",
      "mb : MemBlock(x:d007b287, shape=(1, 3, 128, 128), dtype=float32, size=196608, origin=relax.input) id d007b287\n",
      " --> DiGraph with 1 nodes and 0 edges\n",
      "mb : MemBlock(conv1_weight:ce6abce4, shape=(32, 3, 5, 5), dtype=float32, size=9600, origin=relax.input) id ce6abce4\n",
      " --> DiGraph with 2 nodes and 0 edges\n",
      "mb : MemBlock(conv1_bias:4523b3ab, shape=(32,), dtype=float32, size=128, origin=relax.input) id 4523b3ab\n",
      " --> DiGraph with 3 nodes and 0 edges\n",
      "mb : MemBlock(conv2_weight:5e992f67, shape=(64, 32, 5, 5), dtype=float32, size=204800, origin=relax.input) id 5e992f67\n",
      " --> DiGraph with 4 nodes and 0 edges\n",
      "mb : MemBlock(conv2_bias:56ee3aa3, shape=(64,), dtype=float32, size=256, origin=relax.input) id 56ee3aa3\n",
      " --> DiGraph with 5 nodes and 0 edges\n",
      "mb : MemBlock(lv1:516d9447, shape=(1, 32, 1, 1), dtype=float32, size=128, origin=relax.call_tir.reshape) id 516d9447\n",
      " --> DiGraph with 6 nodes and 0 edges\n",
      "mb : MemBlock(lv:32d0cbd3, shape=(1, 32, 128, 128), dtype=float32, size=2097152, origin=relax.call_tir.fused_conv2d_add_relu) id 32d0cbd3\n",
      " --> DiGraph with 7 nodes and 1 edges\n",
      "mb : MemBlock(lv3:a6dcc9de, shape=(1, 64, 1, 1), dtype=float32, size=256, origin=relax.call_tir.reshape1) id a6dcc9de\n",
      " --> DiGraph with 9 nodes and 2 edges\n",
      "mb : MemBlock(gv:7abdc45b, shape=(1, 64, 128, 128), dtype=float32, size=4194304, origin=relax.call_tir.fused_conv2d1_add1_relu1) id 7abdc45b\n",
      " --> DiGraph with 10 nodes and 3 edges\n",
      "func fused_conv2d1_add1_relu1\n",
      "mb : MemBlock(pad_temp:de3aec92, shape=(1, 32, 132, 132), dtype=float32, size=2230272, origin=tir.fused_conv2d1_add1_relu1.pad_temp) id de3aec92\n",
      " --> DiGraph with 12 nodes and 4 edges\n",
      "mb : MemBlock(conv2d_nchw_intermediate:f16efbd9, shape=(1, 64, 128, 128), dtype=float32, size=4194304, origin=tir.fused_conv2d1_add1_relu1.conv2d_nchw_intermediate) id f16efbd9\n",
      " --> DiGraph with 13 nodes and 5 edges\n",
      "mb : MemBlock(T_add_intermediate:f2dceb7f, shape=(1, 64, 128, 128), dtype=float32, size=4194304, origin=tir.fused_conv2d1_add1_relu1.T_add_intermediate) id f2dceb7f\n",
      " --> DiGraph with 13 nodes and 7 edges\n",
      "func fused_conv2d_add_relu\n",
      "mb : MemBlock(pad_temp:d8d42eab, shape=(1, 3, 132, 132), dtype=float32, size=209088, origin=tir.fused_conv2d_add_relu.pad_temp) id d8d42eab\n",
      " --> DiGraph with 14 nodes and 9 edges\n",
      "mb : MemBlock(conv2d_nchw_intermediate:eba01b42, shape=(1, 32, 128, 128), dtype=float32, size=2097152, origin=tir.fused_conv2d_add_relu.conv2d_nchw_intermediate) id eba01b42\n",
      " --> DiGraph with 15 nodes and 10 edges\n",
      "mb : MemBlock(T_add_intermediate:d93b7024, shape=(1, 32, 128, 128), dtype=float32, size=2097152, origin=tir.fused_conv2d_add_relu.T_add_intermediate) id d93b7024\n",
      " --> DiGraph with 15 nodes and 12 edges\n"
     ]
    }
   ],
   "source": [
    "def build_memblock_graph(memblocks):\n",
    "    G = nx.DiGraph()\n",
    "    for func, mb_list in memblocks.items():\n",
    "        print(f\"func {func}\")\n",
    "        for mb in mb_list:\n",
    "            print(f\"mb : {mb} id {mb._id}\")\n",
    "            G.add_node(mb._id, label=mb.name, fn_from=func, shape=mb.shape, dtype=mb.dtype)\n",
    "            print(f\" --> {G}\")\n",
    "            for dep in mb.depends_on:\n",
    "                G.add_edge(dep._id, mb._id)  # dependency edge\n",
    "    return G\n",
    "\n",
    "graph = build_memblock_graph(alloc_finder.memblocks)"
   ]
  },
  {
   "cell_type": "code",
   "execution_count": 5,
   "id": "5f33e73c",
   "metadata": {},
   "outputs": [
    {
     "data": {
      "text/plain": [
       "{'d007b287': MemBlock(x:d007b287, shape=(1, 3, 128, 128), dtype=float32, size=196608, origin=relax.input),\n",
       " 'ce6abce4': MemBlock(conv1_weight:ce6abce4, shape=(32, 3, 5, 5), dtype=float32, size=9600, origin=relax.input),\n",
       " '4523b3ab': MemBlock(conv1_bias:4523b3ab, shape=(32,), dtype=float32, size=128, origin=relax.input),\n",
       " '5e992f67': MemBlock(conv2_weight:5e992f67, shape=(64, 32, 5, 5), dtype=float32, size=204800, origin=relax.input),\n",
       " '56ee3aa3': MemBlock(conv2_bias:56ee3aa3, shape=(64,), dtype=float32, size=256, origin=relax.input),\n",
       " '516d9447': MemBlock(lv1:516d9447, shape=(1, 32, 1, 1), dtype=float32, size=128, origin=relax.call_tir.reshape),\n",
       " '32d0cbd3': MemBlock(lv:32d0cbd3, shape=(1, 32, 128, 128), dtype=float32, size=2097152, origin=relax.call_tir.fused_conv2d_add_relu),\n",
       " 'a6dcc9de': MemBlock(lv3:a6dcc9de, shape=(1, 64, 1, 1), dtype=float32, size=256, origin=relax.call_tir.reshape1),\n",
       " '7abdc45b': MemBlock(gv:7abdc45b, shape=(1, 64, 128, 128), dtype=float32, size=4194304, origin=relax.call_tir.fused_conv2d1_add1_relu1),\n",
       " 'de3aec92': MemBlock(pad_temp:de3aec92, shape=(1, 32, 132, 132), dtype=float32, size=2230272, origin=tir.fused_conv2d1_add1_relu1.pad_temp),\n",
       " 'f16efbd9': MemBlock(conv2d_nchw_intermediate:f16efbd9, shape=(1, 64, 128, 128), dtype=float32, size=4194304, origin=tir.fused_conv2d1_add1_relu1.conv2d_nchw_intermediate),\n",
       " 'f2dceb7f': MemBlock(T_add_intermediate:f2dceb7f, shape=(1, 64, 128, 128), dtype=float32, size=4194304, origin=tir.fused_conv2d1_add1_relu1.T_add_intermediate),\n",
       " 'd8d42eab': MemBlock(pad_temp:d8d42eab, shape=(1, 3, 132, 132), dtype=float32, size=209088, origin=tir.fused_conv2d_add_relu.pad_temp),\n",
       " 'eba01b42': MemBlock(conv2d_nchw_intermediate:eba01b42, shape=(1, 32, 128, 128), dtype=float32, size=2097152, origin=tir.fused_conv2d_add_relu.conv2d_nchw_intermediate),\n",
       " 'd93b7024': MemBlock(T_add_intermediate:d93b7024, shape=(1, 32, 128, 128), dtype=float32, size=2097152, origin=tir.fused_conv2d_add_relu.T_add_intermediate)}"
      ]
     },
     "execution_count": 5,
     "metadata": {},
     "output_type": "execute_result"
    }
   ],
   "source": [
    "alloc_finder.id_to_memblock"
   ]
  },
  {
   "cell_type": "code",
   "execution_count": 6,
   "id": "4b42f8fb",
   "metadata": {},
   "outputs": [
    {
     "data": {
      "text/plain": [
       "{'d007b287': (0, 0),\n",
       " 'd8d42eab': (0, -100),\n",
       " 'eba01b42': (0, -200),\n",
       " 'd93b7024': (0, -300),\n",
       " '32d0cbd3': (0, -400),\n",
       " 'de3aec92': (0, -500),\n",
       " 'f16efbd9': (0, -600),\n",
       " 'f2dceb7f': (0, -700),\n",
       " '7abdc45b': (0, -800),\n",
       " 'ce6abce4': (-150, 0),\n",
       " '4523b3ab': (150, 0),\n",
       " '5e992f67': (-300, 0),\n",
       " '56ee3aa3': (300, 0),\n",
       " '516d9447': (300, -100),\n",
       " 'a6dcc9de': (300, -100)}"
      ]
     },
     "execution_count": 6,
     "metadata": {},
     "output_type": "execute_result"
    }
   ],
   "source": [
    "import networkx as nx\n",
    "\n",
    "def netron_style_layout_with_spine(G, vertical_spacing=100, horizontal_spacing=150):\n",
    "    \"\"\"\n",
    "    Netron-style layout for DAGs: center the longest path (spine), place others around.\n",
    "\n",
    "    Args:\n",
    "        G: A NetworkX DAG.\n",
    "        vertical_spacing: Y-distance between layers.\n",
    "        horizontal_spacing: X-distance between sibling branches.\n",
    "\n",
    "    Returns:\n",
    "        pos: Dict mapping node -> (x, y)\n",
    "    \"\"\"\n",
    "    if not nx.is_directed_acyclic_graph(G):\n",
    "        raise ValueError(\"Graph must be a DAG\")\n",
    "\n",
    "    # Step 1: Longest path via dynamic programming over topological order\n",
    "    top_order = list(nx.topological_sort(G))\n",
    "    longest_path = {node: 0 for node in top_order}\n",
    "    predecessor = {node: None for node in top_order}\n",
    "\n",
    "    for node in top_order:\n",
    "        for succ in G.successors(node):\n",
    "            # print(f\"node {node} succ {succ} longest_path[node] + 1 ({longest_path[node] + 1}) > longest_path[succ] ({longest_path[succ]}) => {longest_path[node] + 1 > longest_path[succ]}\")\n",
    "            if longest_path[node] + 1 > longest_path[succ]:\n",
    "                longest_path[succ] = longest_path[node] + 1\n",
    "                predecessor[succ] = node  # WARNING : More complex graphs with multiple predecessor may not be handled well\n",
    "\n",
    "    # print(f\"predecessor {predecessor}\")\n",
    "    # print(f\"longest_path {longest_path}\")\n",
    "\n",
    "    # Find end of longest path\n",
    "    end_node = max(longest_path, key=lambda n: longest_path[n])\n",
    "    # Reconstruct path backwards\n",
    "    spine = []\n",
    "    n = end_node\n",
    "    while n is not None:\n",
    "        spine.append(n)\n",
    "        n = predecessor[n]\n",
    "    spine.reverse()\n",
    "\n",
    "    # Step 2: Assign vertical layer (depth)\n",
    "    node_depth = {}\n",
    "    for node in top_order:\n",
    "        preds = list(G.predecessors(node))\n",
    "        if not preds:\n",
    "            node_depth[node] = 0\n",
    "        else:\n",
    "            node_depth[node] = max(node_depth[p] + 1 for p in preds)\n",
    "\n",
    "    # Step 3: Place spine nodes on x = 0\n",
    "    pos = {}\n",
    "    layer_to_spine_x = {}\n",
    "\n",
    "    for node in spine:\n",
    "        y = -node_depth[node] * vertical_spacing\n",
    "        pos[node] = (0, y)\n",
    "        layer_to_spine_x[node_depth[node]] = 0\n",
    "\n",
    "    # Step 4: Place side nodes to left/right of spine, respecting predecessor side if any\n",
    "    side_counters = {}  # depth -> alternation counter\n",
    "\n",
    "    for node in top_order:\n",
    "        if node in pos:\n",
    "            continue  # already placed (on spine)\n",
    "\n",
    "        depth = node_depth[node]\n",
    "        preds = list(G.predecessors(node))\n",
    "        pred_xs = [pos[p][0] for p in preds if p in pos]\n",
    "\n",
    "        # Try to respect the side of already-placed predecessors\n",
    "        if pred_xs:\n",
    "            avg_x = sum(pred_xs) / len(pred_xs)\n",
    "            if avg_x > horizontal_spacing / 2:\n",
    "                side = \"right\"\n",
    "            elif avg_x < -horizontal_spacing / 2:\n",
    "                side = \"left\"\n",
    "            else:\n",
    "                side = None\n",
    "        else:\n",
    "            side = None\n",
    "\n",
    "        # Decide placement\n",
    "        counter = side_counters.get(depth, 0)\n",
    "        if side == \"left\":\n",
    "            direction = -1\n",
    "            index = sum(1 for x in pred_xs if x < 0) + 1\n",
    "        elif side == \"right\":\n",
    "            direction = 1\n",
    "            index = sum(1 for x in pred_xs if x > 0) + 1\n",
    "        else:\n",
    "            direction = -1 if counter % 2 == 0 else 1  # alternate\n",
    "            index = counter // 2 + 1\n",
    "\n",
    "        x = direction * index * horizontal_spacing\n",
    "        y = -depth * vertical_spacing\n",
    "        pos[node] = (x, y)\n",
    "\n",
    "        side_counters[depth] = counter + 1\n",
    "\n",
    "\n",
    "    return pos\n",
    "\n",
    "netron_style_layout_with_spine(graph)"
   ]
  },
  {
   "cell_type": "code",
   "execution_count": 7,
   "id": "33185b7e",
   "metadata": {},
   "outputs": [],
   "source": [
    "import networkx as nx\n",
    "\n",
    "def netron_style_layout_balanced(G, vertical_spacing=100, horizontal_spacing=150):\n",
    "    \"\"\"\n",
    "    Netron-style layout for DAGs with balanced left-right branch placement.\n",
    "\n",
    "    Args:\n",
    "        G: A NetworkX directed acyclic graph (DAG).\n",
    "        vertical_spacing: Vertical distance between layers (y-axis).\n",
    "        horizontal_spacing: Horizontal distance between branches (x-axis).\n",
    "\n",
    "    Returns:\n",
    "        pos: A dict mapping each node to its (x, y) plot position.\n",
    "    \"\"\"\n",
    "    if not nx.is_directed_acyclic_graph(G):\n",
    "        raise ValueError(\"Graph must be a DAG\")\n",
    "\n",
    "    # Step 1: Find the longest path (\"spine\") using dynamic programming\n",
    "    top_order = list(nx.topological_sort(G))\n",
    "    dist = {node: 0 for node in top_order}\n",
    "    pred = {node: None for node in top_order}\n",
    "\n",
    "    for node in top_order:\n",
    "        for succ in G.successors(node):\n",
    "            if dist[node] + 1 > dist[succ]:\n",
    "                dist[succ] = dist[node] + 1\n",
    "                pred[succ] = node\n",
    "\n",
    "    end_node = max(dist, key=dist.get)\n",
    "    spine = []\n",
    "    n = end_node\n",
    "    while n is not None:\n",
    "        spine.append(n)\n",
    "        n = pred[n]\n",
    "    spine.reverse()\n",
    "\n",
    "    # Step 2: Assign depth based on topological layer\n",
    "    node_depth = {}\n",
    "    for node in top_order:\n",
    "        preds = list(G.predecessors(node))\n",
    "        if not preds:\n",
    "            node_depth[node] = 0\n",
    "        else:\n",
    "            node_depth[node] = max(node_depth[p] + 1 for p in preds)\n",
    "\n",
    "    # Step 3: Place spine nodes vertically at x=0\n",
    "    pos = {}\n",
    "    for node in spine:\n",
    "        y = -node_depth[node] * vertical_spacing\n",
    "        pos[node] = (0, y)\n",
    "\n",
    "    # Step 4: Place side branches to left and right\n",
    "    occupied_slots = set()  # (depth, x) tuples to avoid overlaps\n",
    "\n",
    "    # Pre-fill occupied positions for spine nodes\n",
    "    for node in spine:\n",
    "        x, y = pos[node]\n",
    "        depth = node_depth[node]\n",
    "        occupied_slots.add((depth, x))\n",
    "\n",
    "    for node in top_order:\n",
    "        if node in pos:\n",
    "            continue  # already placed on the spine\n",
    "\n",
    "        depth = node_depth[node]\n",
    "        y = -depth * vertical_spacing\n",
    "\n",
    "        # Heuristic: determine placement side based on predecessors\n",
    "        preds = list(G.predecessors(node))\n",
    "        pred_xs = [pos[p][0] for p in preds if p in pos]\n",
    "\n",
    "        side = None\n",
    "        if pred_xs:\n",
    "            avg_x = sum(pred_xs) / len(pred_xs)\n",
    "            if avg_x > horizontal_spacing / 2:\n",
    "                side = \"right\"\n",
    "            elif avg_x < -horizontal_spacing / 2:\n",
    "                side = \"left\"\n",
    "\n",
    "        # Try to place node on preferred side, or alternate outward from spine\n",
    "        max_attempts = 10\n",
    "        for i in range(1, max_attempts):\n",
    "            if side == \"left\":\n",
    "                x_try = -i * horizontal_spacing\n",
    "            elif side == \"right\":\n",
    "                x_try = i * horizontal_spacing\n",
    "            else:\n",
    "                # If side unclear, try left then right outward from center\n",
    "                x_try = (-1)**i * ((i + 1) // 2) * horizontal_spacing\n",
    "\n",
    "            if (depth, x_try) not in occupied_slots:\n",
    "                pos[node] = (x_try, y)\n",
    "                occupied_slots.add((depth, x_try))\n",
    "                break\n",
    "        else:\n",
    "            # Fallback if all slots are taken: place far right\n",
    "            fallback_x = (max_attempts + 1) * horizontal_spacing\n",
    "            pos[node] = (fallback_x, y)\n",
    "            occupied_slots.add((depth, fallback_x))\n",
    "\n",
    "    return pos\n"
   ]
  },
  {
   "cell_type": "code",
   "execution_count": 8,
   "id": "f132d942",
   "metadata": {},
   "outputs": [
    {
     "data": {
      "text/plain": [
       "{'d007b287': MemBlock(x:d007b287, shape=(1, 3, 128, 128), dtype=float32, size=196608, origin=relax.input),\n",
       " 'ce6abce4': MemBlock(conv1_weight:ce6abce4, shape=(32, 3, 5, 5), dtype=float32, size=9600, origin=relax.input),\n",
       " '4523b3ab': MemBlock(conv1_bias:4523b3ab, shape=(32,), dtype=float32, size=128, origin=relax.input),\n",
       " '5e992f67': MemBlock(conv2_weight:5e992f67, shape=(64, 32, 5, 5), dtype=float32, size=204800, origin=relax.input),\n",
       " '56ee3aa3': MemBlock(conv2_bias:56ee3aa3, shape=(64,), dtype=float32, size=256, origin=relax.input),\n",
       " '516d9447': MemBlock(lv1:516d9447, shape=(1, 32, 1, 1), dtype=float32, size=128, origin=relax.call_tir.reshape),\n",
       " '32d0cbd3': MemBlock(lv:32d0cbd3, shape=(1, 32, 128, 128), dtype=float32, size=2097152, origin=relax.call_tir.fused_conv2d_add_relu),\n",
       " 'a6dcc9de': MemBlock(lv3:a6dcc9de, shape=(1, 64, 1, 1), dtype=float32, size=256, origin=relax.call_tir.reshape1),\n",
       " '7abdc45b': MemBlock(gv:7abdc45b, shape=(1, 64, 128, 128), dtype=float32, size=4194304, origin=relax.call_tir.fused_conv2d1_add1_relu1),\n",
       " 'de3aec92': MemBlock(pad_temp:de3aec92, shape=(1, 32, 132, 132), dtype=float32, size=2230272, origin=tir.fused_conv2d1_add1_relu1.pad_temp),\n",
       " 'f16efbd9': MemBlock(conv2d_nchw_intermediate:f16efbd9, shape=(1, 64, 128, 128), dtype=float32, size=4194304, origin=tir.fused_conv2d1_add1_relu1.conv2d_nchw_intermediate),\n",
       " 'f2dceb7f': MemBlock(T_add_intermediate:f2dceb7f, shape=(1, 64, 128, 128), dtype=float32, size=4194304, origin=tir.fused_conv2d1_add1_relu1.T_add_intermediate),\n",
       " 'd8d42eab': MemBlock(pad_temp:d8d42eab, shape=(1, 3, 132, 132), dtype=float32, size=209088, origin=tir.fused_conv2d_add_relu.pad_temp),\n",
       " 'eba01b42': MemBlock(conv2d_nchw_intermediate:eba01b42, shape=(1, 32, 128, 128), dtype=float32, size=2097152, origin=tir.fused_conv2d_add_relu.conv2d_nchw_intermediate),\n",
       " 'd93b7024': MemBlock(T_add_intermediate:d93b7024, shape=(1, 32, 128, 128), dtype=float32, size=2097152, origin=tir.fused_conv2d_add_relu.T_add_intermediate)}"
      ]
     },
     "execution_count": 8,
     "metadata": {},
     "output_type": "execute_result"
    }
   ],
   "source": [
    "alloc_finder.id_to_memblock"
   ]
  },
  {
   "cell_type": "code",
   "execution_count": 9,
   "id": "47a7eb30",
   "metadata": {},
   "outputs": [],
   "source": [
    "id_to_labels = {}\n",
    "for key, params in graph.nodes(data=True):\n",
    "    # id_to_labels[key] = params[\"fn_from\"] + \":\" + params[\"label\"]\n",
    "    id_to_labels[key] = params[\"label\"]"
   ]
  },
  {
   "cell_type": "code",
   "execution_count": 10,
   "id": "595170eb",
   "metadata": {},
   "outputs": [
    {
     "data": {
      "text/plain": [
       "'d007b287'"
      ]
     },
     "execution_count": 10,
     "metadata": {},
     "output_type": "execute_result"
    }
   ],
   "source": [
    "list(graph.nodes)[0]"
   ]
  },
  {
   "cell_type": "code",
   "execution_count": 11,
   "id": "71d15121",
   "metadata": {},
   "outputs": [
    {
     "data": {
      "text/plain": [
       "{'d007b287': MemBlock(x:d007b287, shape=(1, 3, 128, 128), dtype=float32, size=196608, origin=relax.input),\n",
       " 'ce6abce4': MemBlock(conv1_weight:ce6abce4, shape=(32, 3, 5, 5), dtype=float32, size=9600, origin=relax.input),\n",
       " '4523b3ab': MemBlock(conv1_bias:4523b3ab, shape=(32,), dtype=float32, size=128, origin=relax.input),\n",
       " '5e992f67': MemBlock(conv2_weight:5e992f67, shape=(64, 32, 5, 5), dtype=float32, size=204800, origin=relax.input),\n",
       " '56ee3aa3': MemBlock(conv2_bias:56ee3aa3, shape=(64,), dtype=float32, size=256, origin=relax.input),\n",
       " '516d9447': MemBlock(lv1:516d9447, shape=(1, 32, 1, 1), dtype=float32, size=128, origin=relax.call_tir.reshape),\n",
       " '32d0cbd3': MemBlock(lv:32d0cbd3, shape=(1, 32, 128, 128), dtype=float32, size=2097152, origin=relax.call_tir.fused_conv2d_add_relu),\n",
       " 'a6dcc9de': MemBlock(lv3:a6dcc9de, shape=(1, 64, 1, 1), dtype=float32, size=256, origin=relax.call_tir.reshape1),\n",
       " '7abdc45b': MemBlock(gv:7abdc45b, shape=(1, 64, 128, 128), dtype=float32, size=4194304, origin=relax.call_tir.fused_conv2d1_add1_relu1),\n",
       " 'de3aec92': MemBlock(pad_temp:de3aec92, shape=(1, 32, 132, 132), dtype=float32, size=2230272, origin=tir.fused_conv2d1_add1_relu1.pad_temp),\n",
       " 'f16efbd9': MemBlock(conv2d_nchw_intermediate:f16efbd9, shape=(1, 64, 128, 128), dtype=float32, size=4194304, origin=tir.fused_conv2d1_add1_relu1.conv2d_nchw_intermediate),\n",
       " 'f2dceb7f': MemBlock(T_add_intermediate:f2dceb7f, shape=(1, 64, 128, 128), dtype=float32, size=4194304, origin=tir.fused_conv2d1_add1_relu1.T_add_intermediate),\n",
       " 'd8d42eab': MemBlock(pad_temp:d8d42eab, shape=(1, 3, 132, 132), dtype=float32, size=209088, origin=tir.fused_conv2d_add_relu.pad_temp),\n",
       " 'eba01b42': MemBlock(conv2d_nchw_intermediate:eba01b42, shape=(1, 32, 128, 128), dtype=float32, size=2097152, origin=tir.fused_conv2d_add_relu.conv2d_nchw_intermediate),\n",
       " 'd93b7024': MemBlock(T_add_intermediate:d93b7024, shape=(1, 32, 128, 128), dtype=float32, size=2097152, origin=tir.fused_conv2d_add_relu.T_add_intermediate)}"
      ]
     },
     "execution_count": 11,
     "metadata": {},
     "output_type": "execute_result"
    }
   ],
   "source": [
    "alloc_finder.id_to_memblock"
   ]
  },
  {
   "cell_type": "code",
   "execution_count": 12,
   "id": "1378623d",
   "metadata": {},
   "outputs": [
    {
     "data": {
      "text/plain": [
       "[MemBlock(conv2_bias:56ee3aa3, shape=(64,), dtype=float32, size=256, origin=relax.input)]"
      ]
     },
     "execution_count": 12,
     "metadata": {},
     "output_type": "execute_result"
    }
   ],
   "source": [
    "alloc_finder.id_to_memblock[\"a6dcc9de\"].depends_on"
   ]
  },
  {
   "cell_type": "code",
   "execution_count": 13,
   "id": "214c1b30",
   "metadata": {},
   "outputs": [
    {
     "data": {
      "text/plain": [
       "[MemBlock(lv1:516d9447, shape=(1, 32, 1, 1), dtype=float32, size=128, origin=relax.call_tir.reshape)]"
      ]
     },
     "execution_count": 13,
     "metadata": {},
     "output_type": "execute_result"
    }
   ],
   "source": [
    "alloc_finder.id_to_memblock[\"4523b3ab\"].links_to"
   ]
  },
  {
   "cell_type": "code",
   "execution_count": 15,
   "id": "9368bd89",
   "metadata": {},
   "outputs": [
    {
     "data": {
      "image/png": "[encoded data removed]",
      "text/plain": [
       "<Figure size 640x480 with 1 Axes>"
      ]
     },
     "metadata": {},
     "output_type": "display_data"
    }
   ],
   "source": [
    "import matplotlib.pyplot as plt\n",
    "import networkx.drawing.layout as nxl\n",
    "\n",
    "nx.draw(graph, with_labels=True, labels=id_to_labels, font_size=10, node_size=300, pos=netron_style_layout_balanced(graph))"
   ]
  },
  {
   "cell_type": "code",
   "execution_count": null,
   "id": "072b3924",
   "metadata": {},
   "outputs": [],
   "source": []
  }
 ],
 "metadata": {
  "kernelspec": {
   "display_name": "tvm310",
   "language": "python",
   "name": "python3"
  },
  "language_info": {
   "codemirror_mode": {
    "name": "ipython",
    "version": 3
   },
   "file_extension": ".py",
   "mimetype": "text/x-python",
   "name": "python",
   "nbconvert_exporter": "python",
   "pygments_lexer": "ipython3",
   "version": "3.10.15"
  }
 },
 "nbformat": 4,
 "nbformat_minor": 5
}
